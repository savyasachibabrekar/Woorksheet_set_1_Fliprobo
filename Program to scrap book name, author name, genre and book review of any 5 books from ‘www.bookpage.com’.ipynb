{
 "cells": [
  {
   "cell_type": "markdown",
   "metadata": {},
   "source": [
    "###### 4.Write a python program to scrap book name, author name, genre and book review of any 5 books from\n",
    "‘www.bookpage.com’"
   ]
  },
  {
   "cell_type": "code",
   "execution_count": null,
   "metadata": {},
   "outputs": [],
   "source": [
    "# Importing the important libraries.\n",
    "\n",
    "from bs4 import BeautifulSoup\n",
    "import requests\n",
    "import re\n",
    "\n",
    "# Download IMDB's Top 100 data\n",
    "book_url = 'https://bookpage.com/reviews'\n",
    "resp = requests.get(book_url)\n",
    "resp"
   ]
  },
  {
   "cell_type": "code",
   "execution_count": null,
   "metadata": {},
   "outputs": [],
   "source": [
    "#Check the response\n",
    "resp.content"
   ]
  },
  {
   "cell_type": "code",
   "execution_count": null,
   "metadata": {},
   "outputs": [],
   "source": [
    "# Using Soup\n",
    "soup1 = BeautifulSoup(resp.content)\n",
    "soup1"
   ]
  },
  {
   "cell_type": "code",
   "execution_count": null,
   "metadata": {},
   "outputs": [],
   "source": [
    "# Declaring the structured data in prettify()\n",
    "print(soup1.prettify())\n"
   ]
  },
  {
   "cell_type": "code",
   "execution_count": null,
   "metadata": {},
   "outputs": [],
   "source": [
    "# Extracting the book names in tags\n",
    "book = soup1.find_all('h4', class_='italic')\n",
    "book"
   ]
  },
  {
   "cell_type": "code",
   "execution_count": null,
   "metadata": {},
   "outputs": [],
   "source": [
    "# Extracting top 5 the book name \n",
    "book_name = []\n",
    "for i in book:\n",
    "    book_name.append(i.text)\n",
    "book_name[:5]"
   ]
  },
  {
   "cell_type": "code",
   "execution_count": null,
   "metadata": {},
   "outputs": [],
   "source": [
    "book_name = []\n",
    "for i in book:\n",
    "    book_name.append(i.text.replace('\\n',''))\n",
    "book_name[:5]"
   ]
  },
  {
   "cell_type": "code",
   "execution_count": null,
   "metadata": {},
   "outputs": [],
   "source": [
    "# Extracting the author names in tags\n",
    "\n",
    "author = soup1.find_all('p', class_ = 'sans bold')\n",
    "author"
   ]
  },
  {
   "cell_type": "code",
   "execution_count": null,
   "metadata": {},
   "outputs": [],
   "source": [
    "# Extracting top 5 the author name \n",
    "\n",
    "author_name = []\n",
    "for i in author:\n",
    "    author_name.append(i.text)\n",
    "author_name[:5]"
   ]
  },
  {
   "cell_type": "code",
   "execution_count": null,
   "metadata": {},
   "outputs": [],
   "source": [
    "author_name = []\n",
    "for i in author:\n",
    "    author_name.append(i.text.replace('\\n',''))\n",
    "author_name[:5]"
   ]
  },
  {
   "cell_type": "code",
   "execution_count": null,
   "metadata": {},
   "outputs": [],
   "source": [
    "# Extracting the genre form  tags\n",
    "\n",
    "genre = soup1.find_all('p', class_ = 'genre-links hidden-phone')\n",
    "genre"
   ]
  },
  {
   "cell_type": "code",
   "execution_count": null,
   "metadata": {},
   "outputs": [],
   "source": [
    "# Extracting top 5 the genre name \n",
    "\n",
    "genre_name = []\n",
    "for i in genre:\n",
    "    genre_name.append(i.text)\n",
    "genre_name[:5]"
   ]
  },
  {
   "cell_type": "code",
   "execution_count": null,
   "metadata": {},
   "outputs": [],
   "source": [
    "genre_name = []\n",
    "for i in genre:\n",
    "    genre_name.append(i.text.replace('\\n',''))\n",
    "genre_name[:5]"
   ]
  },
  {
   "cell_type": "code",
   "execution_count": null,
   "metadata": {},
   "outputs": [],
   "source": [
    "# Extracting the review from  tags\n",
    "\n",
    "review = soup1.find_all('p', class_ = 'excerpt')\n",
    "review"
   ]
  },
  {
   "cell_type": "code",
   "execution_count": null,
   "metadata": {},
   "outputs": [],
   "source": [
    "# Extracting top 5 the review \n",
    "\n",
    "book_review = []\n",
    "for i in review:\n",
    "    book_review.append(i.text)\n",
    "book_review[:5]    "
   ]
  },
  {
   "cell_type": "code",
   "execution_count": null,
   "metadata": {},
   "outputs": [],
   "source": [
    "book_review = []\n",
    "for i in review:\n",
    "    book_review.append(i.text.replace('\\n',''))\n",
    "book_review[:5]    "
   ]
  },
  {
   "cell_type": "code",
   "execution_count": null,
   "metadata": {},
   "outputs": [],
   "source": [
    "# importing the pandas and creating the data frame as book_df\n",
    "# and printing the only top 5 from the list\n",
    "\n",
    "import pandas as pd\n",
    "book_df = pd.DataFrame({})\n",
    "book_df['Book_Name'] = book_name\n",
    "book_df['Author_Name'] = author_name\n",
    "book_df['Genre'] = genre_name\n",
    "book_df['Book_Review'] = book_review\n",
    "\n",
    "book_df[:5]\n"
   ]
  },
  {
   "cell_type": "code",
   "execution_count": null,
   "metadata": {},
   "outputs": [],
   "source": []
  },
  {
   "cell_type": "code",
   "execution_count": null,
   "metadata": {},
   "outputs": [],
   "source": []
  },
  {
   "cell_type": "code",
   "execution_count": null,
   "metadata": {},
   "outputs": [],
   "source": []
  }
 ],
 "metadata": {
  "kernelspec": {
   "display_name": "Python 3",
   "language": "python",
   "name": "python3"
  },
  "language_info": {
   "codemirror_mode": {
    "name": "ipython",
    "version": 3
   },
   "file_extension": ".py",
   "mimetype": "text/x-python",
   "name": "python",
   "nbconvert_exporter": "python",
   "pygments_lexer": "ipython3",
   "version": "3.8.5"
  }
 },
 "nbformat": 4,
 "nbformat_minor": 4
}
