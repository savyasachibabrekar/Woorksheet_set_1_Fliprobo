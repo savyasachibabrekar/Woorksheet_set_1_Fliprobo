{
 "cells": [
  {
   "cell_type": "markdown",
   "metadata": {},
   "source": [
    "###### Write a python program to scrape house details from https://www.nobroker.in/ for any location. It should include house title, location, area, emi and price"
   ]
  },
  {
   "cell_type": "code",
   "execution_count": null,
   "metadata": {},
   "outputs": [],
   "source": [
    "# Importing the important libraries.\n",
    "\n",
    "from bs4 import BeautifulSoup\n",
    "import requests\n",
    "import re\n",
    "\n",
    "# get the respone from the url in www.nobroker.in\n",
    "nobroker_url = 'https://www.nobroker.in/property/sale/mumbai/Andheri%20West?searchParam=W3sibGF0IjoxOS4xMzY0MDE2LCJsb24iOjcyLjgyOTYyNTIsInBsYWNlSWQiOiJDaElKM1pIWXRoaTI1enNSTXRFeHgxZW8tSkUiLCJwbGFjZU5hbWUiOiJBbmRoZXJpIFdlc3QifV0=&radius=2.0'\n",
    "resp = requests.get(nobroker_url)\n",
    "resp"
   ]
  },
  {
   "cell_type": "code",
   "execution_count": null,
   "metadata": {},
   "outputs": [],
   "source": [
    "#Check the response\n",
    "resp.content"
   ]
  },
  {
   "cell_type": "code",
   "execution_count": null,
   "metadata": {},
   "outputs": [],
   "source": [
    "# Using Soup\n",
    "soup_nobrker = BeautifulSoup(resp.content)\n",
    "soup_nobrker"
   ]
  },
  {
   "cell_type": "code",
   "execution_count": null,
   "metadata": {},
   "outputs": [],
   "source": [
    "# Declaring the structured data in prettify()\n",
    "print(soup_nobrker.prettify())\n"
   ]
  },
  {
   "cell_type": "code",
   "execution_count": null,
   "metadata": {},
   "outputs": [],
   "source": [
    "# Extracting the house from tags\n",
    "house = soup_nobrker.find_all('h2', class_='heading-6 font-semi-bold nb__1AShY')\n",
    "house\n",
    "#<h2 class=\"heading-6 font-semi-bold nb__1AShY\"><span itemprop=\"name\">2 BHK Flat  For Sale  In Anuprita Chs In Andheri West</span> <svg class=\"jss1\" focusable=\"false\" viewBox=\"0 0 24 24\" aria-hidden=\"true\" role=\"presentation\"><path fill=\"none\" d=\"M0 0h24v24H0z\"></path><path d=\"M19 19H5V5h7V3H5c-1.11 0-2 .9-2 2v14c0 1.1.89 2 2 2h14c1.1 0 2-.9 2-2v-7h-2v7zM14 3v2h3.59l-9.83 9.83 1.41 1.41L19 6.41V10h2V3h-7z\"></path></svg></h2>"
   ]
  },
  {
   "cell_type": "code",
   "execution_count": null,
   "metadata": {},
   "outputs": [],
   "source": [
    "len(house)"
   ]
  },
  {
   "cell_type": "code",
   "execution_count": null,
   "metadata": {},
   "outputs": [],
   "source": [
    "# Extracting houses title for tags and class \n",
    "\n",
    "house_title = []\n",
    "for i in house:\n",
    "    house_title.append(i.text)\n",
    "house_title"
   ]
  },
  {
   "cell_type": "code",
   "execution_count": null,
   "metadata": {},
   "outputs": [],
   "source": [
    "# Extracting the area from tags\n",
    "area = soup_nobrker.find_all('div', class_='nb__2CMjv')\n",
    "area\n",
    "# <div class=\"nb__2CMjv\">, Andheri Link Rd,  near  DN Nagar Police Station </div>\n"
   ]
  },
  {
   "cell_type": "code",
   "execution_count": null,
   "metadata": {},
   "outputs": [],
   "source": [
    "len(area)"
   ]
  },
  {
   "cell_type": "code",
   "execution_count": null,
   "metadata": {},
   "outputs": [],
   "source": [
    "# Extracting areas for tags and class \n",
    "\n",
    "area_name = []\n",
    "for i in area:\n",
    "    area_name.append(i.text)\n",
    "area_name"
   ]
  },
  {
   "cell_type": "code",
   "execution_count": null,
   "metadata": {},
   "outputs": [],
   "source": [
    "# Extracting the emi from tags\n",
    "emi = soup_nobrker.find_all('div', class_=['font-semi-bold heading-6','Minimum Deposit','name'])\n",
    "emi\n",
    "# <div class=\"font-semi-bold heading-6\" id=\"roomType\"><span>₹</span>1.32 Lacs/Month</div>"
   ]
  },
  {
   "cell_type": "code",
   "execution_count": null,
   "metadata": {},
   "outputs": [],
   "source": [
    "len(emi)"
   ]
  },
  {
   "cell_type": "code",
   "execution_count": null,
   "metadata": {},
   "outputs": [],
   "source": [
    "# Extracting areas form tags and class \n",
    "\n",
    "emi_price = []\n",
    "for i in emi:\n",
    "    emi_price.append(i.text)\n",
    "emi_price[1:30:3]"
   ]
  },
  {
   "cell_type": "code",
   "execution_count": null,
   "metadata": {},
   "outputs": [],
   "source": [
    "# Extracting the price from tags\n",
    "price = soup_nobrker.find_all('div', class_='font-semi-bold heading-6')\n",
    "price\n",
    "# <div class=\"font-semi-bold heading-6\"><meta itemprop=\"name\" content=\"Minimum Deposit\"><span>₹2.3 Crores</span></div>"
   ]
  },
  {
   "cell_type": "code",
   "execution_count": null,
   "metadata": {},
   "outputs": [],
   "source": [
    "len(price)"
   ]
  },
  {
   "cell_type": "code",
   "execution_count": null,
   "metadata": {},
   "outputs": [],
   "source": [
    "# Extracting prices form tags and class \n",
    "price_ = []\n",
    "for i in price:\n",
    "    price_.append(i.text)\n",
    "price_[2:30:3]"
   ]
  },
  {
   "cell_type": "code",
   "execution_count": 60,
   "metadata": {},
   "outputs": [
    {
     "data": {
      "text/html": [
       "<div>\n",
       "<style scoped>\n",
       "    .dataframe tbody tr th:only-of-type {\n",
       "        vertical-align: middle;\n",
       "    }\n",
       "\n",
       "    .dataframe tbody tr th {\n",
       "        vertical-align: top;\n",
       "    }\n",
       "\n",
       "    .dataframe thead th {\n",
       "        text-align: right;\n",
       "    }\n",
       "</style>\n",
       "<table border=\"1\" class=\"dataframe\">\n",
       "  <thead>\n",
       "    <tr style=\"text-align: right;\">\n",
       "      <th></th>\n",
       "      <th>House Title</th>\n",
       "      <th>Area Name</th>\n",
       "      <th>EMI</th>\n",
       "      <th>Price</th>\n",
       "    </tr>\n",
       "  </thead>\n",
       "  <tbody>\n",
       "    <tr>\n",
       "      <th>0</th>\n",
       "      <td>2 BHK Flat  For Sale  In Anuprita Chs In Andhe...</td>\n",
       "      <td>Azad Nagar, Near Sand Pebble Apartment and And...</td>\n",
       "      <td>₹1.06 Lacs/Month</td>\n",
       "      <td>₹1.85 Crores</td>\n",
       "    </tr>\n",
       "    <tr>\n",
       "      <th>1</th>\n",
       "      <td>2 BHK Flat  For Sale  In Ashoka Tower In Andhe...</td>\n",
       "      <td>Amarant Rd, Inlaks Nagar, Versova Near Dattara...</td>\n",
       "      <td>₹1.4 Lacs/Month</td>\n",
       "      <td>₹2.45 Crores</td>\n",
       "    </tr>\n",
       "    <tr>\n",
       "      <th>2</th>\n",
       "      <td>1 BHK Apartment  For Sale  In Everest Apt Chs ...</td>\n",
       "      <td>Everest Apt CHS  JP Rd,  Versova, Near to Wood...</td>\n",
       "      <td>₹1.12 Lacs/Month</td>\n",
       "      <td>₹1.95 Crores</td>\n",
       "    </tr>\n",
       "    <tr>\n",
       "      <th>3</th>\n",
       "      <td>2 BHK Apartment  For Sale  In Dlh Imur In Andh...</td>\n",
       "      <td>Dlh Imur  Sahakar Nagar, Andheri West, Mumbai,...</td>\n",
       "      <td>₹1.38 Lacs/Month</td>\n",
       "      <td>₹2.4 Crores</td>\n",
       "    </tr>\n",
       "    <tr>\n",
       "      <th>4</th>\n",
       "      <td>2 BHK Flat  For Sale  In Shubham Karoti Chs In...</td>\n",
       "      <td>Varsova Shubham Karoti, Lokhandwala circle</td>\n",
       "      <td>₹97,434/Month</td>\n",
       "      <td>₹1.7 Crores</td>\n",
       "    </tr>\n",
       "    <tr>\n",
       "      <th>5</th>\n",
       "      <td>1 BHK Flat  For Sale  In Excellence Building I...</td>\n",
       "      <td>SV Patel Nagar  Opp telephone Exchange 4 bungl...</td>\n",
       "      <td>₹75,081/Month</td>\n",
       "      <td>₹1.31 Crores</td>\n",
       "    </tr>\n",
       "    <tr>\n",
       "      <th>6</th>\n",
       "      <td>2 BHK Flat  For Sale  In Savgan Heights In And...</td>\n",
       "      <td>RTO Rd, Kasam Nagar, Suresh Nagar, Andheri West</td>\n",
       "      <td>₹1.13 Lacs/Month</td>\n",
       "      <td>₹1.98 Crores</td>\n",
       "    </tr>\n",
       "    <tr>\n",
       "      <th>7</th>\n",
       "      <td>1 BHK Apartment  For Sale  In Shivkrupa Platin...</td>\n",
       "      <td>Shivkrupa Platinum Tower 4  No 4, Ganesh Chowk...</td>\n",
       "      <td>₹83,106/Month</td>\n",
       "      <td>₹1.45 Crores</td>\n",
       "    </tr>\n",
       "    <tr>\n",
       "      <th>8</th>\n",
       "      <td>3 BHK Flat  For Sale  In Sunteck Gilbird Chsl ...</td>\n",
       "      <td>puncham colony near Bhavans college</td>\n",
       "      <td>₹1.38 Lacs/Month</td>\n",
       "      <td>₹2.4 Crores</td>\n",
       "    </tr>\n",
       "    <tr>\n",
       "      <th>9</th>\n",
       "      <td>3 BHK Flat  For Sale  In Indradarshan Phase Ii...</td>\n",
       "      <td>Oshiwara, Tarapore Gardens, Milat Nagar near m...</td>\n",
       "      <td>₹2.87 Lacs/Month</td>\n",
       "      <td>₹5 Crores</td>\n",
       "    </tr>\n",
       "  </tbody>\n",
       "</table>\n",
       "</div>"
      ],
      "text/plain": [
       "                                         House Title  \\\n",
       "0  2 BHK Flat  For Sale  In Anuprita Chs In Andhe...   \n",
       "1  2 BHK Flat  For Sale  In Ashoka Tower In Andhe...   \n",
       "2  1 BHK Apartment  For Sale  In Everest Apt Chs ...   \n",
       "3  2 BHK Apartment  For Sale  In Dlh Imur In Andh...   \n",
       "4  2 BHK Flat  For Sale  In Shubham Karoti Chs In...   \n",
       "5  1 BHK Flat  For Sale  In Excellence Building I...   \n",
       "6  2 BHK Flat  For Sale  In Savgan Heights In And...   \n",
       "7  1 BHK Apartment  For Sale  In Shivkrupa Platin...   \n",
       "8  3 BHK Flat  For Sale  In Sunteck Gilbird Chsl ...   \n",
       "9  3 BHK Flat  For Sale  In Indradarshan Phase Ii...   \n",
       "\n",
       "                                           Area Name               EMI  \\\n",
       "0  Azad Nagar, Near Sand Pebble Apartment and And...  ₹1.06 Lacs/Month   \n",
       "1  Amarant Rd, Inlaks Nagar, Versova Near Dattara...   ₹1.4 Lacs/Month   \n",
       "2  Everest Apt CHS  JP Rd,  Versova, Near to Wood...  ₹1.12 Lacs/Month   \n",
       "3  Dlh Imur  Sahakar Nagar, Andheri West, Mumbai,...  ₹1.38 Lacs/Month   \n",
       "4         Varsova Shubham Karoti, Lokhandwala circle     ₹97,434/Month   \n",
       "5  SV Patel Nagar  Opp telephone Exchange 4 bungl...     ₹75,081/Month   \n",
       "6    RTO Rd, Kasam Nagar, Suresh Nagar, Andheri West  ₹1.13 Lacs/Month   \n",
       "7  Shivkrupa Platinum Tower 4  No 4, Ganesh Chowk...     ₹83,106/Month   \n",
       "8                puncham colony near Bhavans college  ₹1.38 Lacs/Month   \n",
       "9  Oshiwara, Tarapore Gardens, Milat Nagar near m...  ₹2.87 Lacs/Month   \n",
       "\n",
       "          Price  \n",
       "0  ₹1.85 Crores  \n",
       "1  ₹2.45 Crores  \n",
       "2  ₹1.95 Crores  \n",
       "3   ₹2.4 Crores  \n",
       "4   ₹1.7 Crores  \n",
       "5  ₹1.31 Crores  \n",
       "6  ₹1.98 Crores  \n",
       "7  ₹1.45 Crores  \n",
       "8   ₹2.4 Crores  \n",
       "9     ₹5 Crores  "
      ]
     },
     "execution_count": 60,
     "metadata": {},
     "output_type": "execute_result"
    }
   ],
   "source": [
    "# Creating the DataFrame in python using the pandas \n",
    "\n",
    "import pandas as pd \n",
    "nobroker_df = pd.DataFrame({})\n",
    "nobroker_df['House Title'] = house_title\n",
    "nobroker_df['Area Name'] = area_name\n",
    "nobroker_df['EMI'] = emi_price[1:30:3]\n",
    "nobroker_df['Price'] = price_[2:30:3]\n",
    "\n",
    "nobroker_df"
   ]
  },
  {
   "cell_type": "code",
   "execution_count": null,
   "metadata": {},
   "outputs": [],
   "source": []
  },
  {
   "cell_type": "code",
   "execution_count": null,
   "metadata": {},
   "outputs": [],
   "source": []
  },
  {
   "cell_type": "code",
   "execution_count": null,
   "metadata": {},
   "outputs": [],
   "source": []
  },
  {
   "cell_type": "code",
   "execution_count": null,
   "metadata": {},
   "outputs": [],
   "source": []
  },
  {
   "cell_type": "code",
   "execution_count": null,
   "metadata": {},
   "outputs": [],
   "source": []
  },
  {
   "cell_type": "code",
   "execution_count": null,
   "metadata": {},
   "outputs": [],
   "source": []
  },
  {
   "cell_type": "code",
   "execution_count": null,
   "metadata": {},
   "outputs": [],
   "source": []
  },
  {
   "cell_type": "code",
   "execution_count": null,
   "metadata": {},
   "outputs": [],
   "source": []
  },
  {
   "cell_type": "code",
   "execution_count": null,
   "metadata": {},
   "outputs": [],
   "source": []
  },
  {
   "cell_type": "code",
   "execution_count": null,
   "metadata": {},
   "outputs": [],
   "source": []
  }
 ],
 "metadata": {
  "kernelspec": {
   "display_name": "Python 3",
   "language": "python",
   "name": "python3"
  },
  "language_info": {
   "codemirror_mode": {
    "name": "ipython",
    "version": 3
   },
   "file_extension": ".py",
   "mimetype": "text/x-python",
   "name": "python",
   "nbconvert_exporter": "python",
   "pygments_lexer": "ipython3",
   "version": "3.8.5"
  }
 },
 "nbformat": 4,
 "nbformat_minor": 4
}
