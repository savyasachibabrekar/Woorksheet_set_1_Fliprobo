{
 "cells": [
  {
   "cell_type": "markdown",
   "metadata": {},
   "source": [
    "### Cricket Scraping -\n",
    "\n",
    "5. Write a python program to scrape cricket rankings from ‘www.icc-cricket.com’. \n",
    "You have toscrape:\n",
    "    i) Top 10 ODI teams in men’s cricket along with the records for matches, points andrating.\n",
    "    ii) Top 10 ODI Batsmen in men along with the records of their team and rating.\n",
    "    iii) Top 10 ODI bowlers along with the records of their team andrating."
   ]
  },
  {
   "cell_type": "code",
   "execution_count": 1,
   "metadata": {},
   "outputs": [
    {
     "data": {
      "text/plain": [
       "<Response [200]>"
      ]
     },
     "execution_count": 1,
     "metadata": {},
     "output_type": "execute_result"
    }
   ],
   "source": [
    "# Importing the important libraries.\n",
    "\n",
    "from bs4 import BeautifulSoup\n",
    "import requests\n",
    "import re\n",
    "\n",
    "# get the respone from the url in www.cricket.com\n",
    "icc_url = 'https://www.icc-cricket.com/rankings/mens/team-rankings/odi'\n",
    "resp = requests.get(icc_url)\n",
    "resp"
   ]
  },
  {
   "cell_type": "markdown",
   "metadata": {},
   "source": [
    " ##### Top 10 ODI teams in men’s cricket along with the records for matches, points andrating."
   ]
  },
  {
   "cell_type": "code",
   "execution_count": null,
   "metadata": {},
   "outputs": [],
   "source": [
    "#Check the response\n",
    "resp.content"
   ]
  },
  {
   "cell_type": "code",
   "execution_count": null,
   "metadata": {},
   "outputs": [],
   "source": [
    "# Using Soup\n",
    "soup1 = BeautifulSoup(resp.content)\n",
    "soup1"
   ]
  },
  {
   "cell_type": "code",
   "execution_count": null,
   "metadata": {},
   "outputs": [],
   "source": [
    "# Declaring the structured data in prettify()\n",
    "print(soup1.prettify())\n"
   ]
  },
  {
   "cell_type": "code",
   "execution_count": null,
   "metadata": {},
   "outputs": [],
   "source": [
    "# Extracting the team names from tags\n",
    "teams = soup1.find_all('span', class_='u-hide-phablet')\n",
    "teams[:10]"
   ]
  },
  {
   "cell_type": "code",
   "execution_count": null,
   "metadata": {},
   "outputs": [],
   "source": [
    "len(teams)"
   ]
  },
  {
   "cell_type": "code",
   "execution_count": null,
   "metadata": {},
   "outputs": [],
   "source": [
    "# Extracting top 20 the team names \n",
    "team_names = []\n",
    "for i in teams:\n",
    "    team_names.append(i.text)\n",
    "team_names[1:11]"
   ]
  },
  {
   "cell_type": "code",
   "execution_count": null,
   "metadata": {},
   "outputs": [],
   "source": [
    "matches1 = soup1.find_all('td', class_='rankings-block__banner--matches')\n",
    "matches1\n"
   ]
  },
  {
   "cell_type": "code",
   "execution_count": null,
   "metadata": {},
   "outputs": [],
   "source": [
    "matches2 = soup1.find_all('td', class_='table-body__cell u-center-text')\n",
    "matches2\n"
   ]
  },
  {
   "cell_type": "code",
   "execution_count": null,
   "metadata": {},
   "outputs": [],
   "source": [
    "matches_names = []\n",
    "for i in matches2:\n",
    "    matches_names.append(i.text)\n",
    "matches_names[0:11:1]"
   ]
  },
  {
   "cell_type": "code",
   "execution_count": null,
   "metadata": {},
   "outputs": [],
   "source": [
    "points = soup1.find_all('td', class_='table-body__cell u-center-text')\n",
    "points[:20]"
   ]
  },
  {
   "cell_type": "code",
   "execution_count": null,
   "metadata": {},
   "outputs": [],
   "source": [
    "points_names = []\n",
    "for i in points:\n",
    "    points_names.append(i.text)\n",
    "points_names[1:20:2]"
   ]
  },
  {
   "cell_type": "code",
   "execution_count": null,
   "metadata": {},
   "outputs": [],
   "source": [
    "rating = soup1.find_all('td', class_='table-body__cell u-text-right rating')\n",
    "rating[:10]"
   ]
  },
  {
   "cell_type": "code",
   "execution_count": null,
   "metadata": {},
   "outputs": [],
   "source": [
    "rating_names = []\n",
    "for i in rating:\n",
    "    rating_names.append(i.text)\n",
    "rating_names[:10]"
   ]
  },
  {
   "cell_type": "code",
   "execution_count": null,
   "metadata": {},
   "outputs": [],
   "source": [
    "# Creating the DataFrame in python using the pandas \n",
    "\n",
    "import pandas as pd \n",
    "cricket_df = pd.DataFrame({})\n",
    "cricket_df['Team Names'] = team_names[1:11]\n",
    "cricket_df['Matches'] = matches_names[:20:2]\n",
    "cricket_df['Points'] = points_names[1:20:2]\n",
    "cricket_df['Ratings'] = rating_names[:10]\n",
    "\n",
    "cricket_df"
   ]
  },
  {
   "cell_type": "code",
   "execution_count": null,
   "metadata": {},
   "outputs": [],
   "source": [
    "#  Final Top 10 list of Cricket according to their rankings \n",
    "\n",
    "\n",
    "top_row = pd.DataFrame({'Team Names':['New Zealand'],'Matches':[117],'Points':[2054], 'Ratings':[121]})\n",
    "# Concat with old DataFrame and reset the Index.\n",
    "cricket_df = pd.concat([top_row, cricket_df]).reset_index(drop = True)\n",
    "cricket_df"
   ]
  },
  {
   "cell_type": "markdown",
   "metadata": {},
   "source": [
    "##### Top 10 ODI Batsmen in men along with the records of their team and rating."
   ]
  },
  {
   "cell_type": "code",
   "execution_count": null,
   "metadata": {},
   "outputs": [],
   "source": [
    "icc_mens_url = 'https://www.icc-cricket.com/rankings/mens/player-rankings/odi/batting'\n",
    "response = requests.get(icc_mens_url)\n",
    "response"
   ]
  },
  {
   "cell_type": "code",
   "execution_count": null,
   "metadata": {},
   "outputs": [],
   "source": [
    "# Using Soup\n",
    "soup2 = BeautifulSoup(response.content)\n",
    "soup2"
   ]
  },
  {
   "cell_type": "code",
   "execution_count": null,
   "metadata": {},
   "outputs": [],
   "source": [
    "print(soup2.prettify())"
   ]
  },
  {
   "cell_type": "code",
   "execution_count": null,
   "metadata": {},
   "outputs": [],
   "source": [
    "# Extracting the team names from tags\n",
    "player= soup2.find_all('td', class_='table-body__cell rankings-table__name name')\n",
    "player[:10]"
   ]
  },
  {
   "cell_type": "code",
   "execution_count": null,
   "metadata": {},
   "outputs": [],
   "source": [
    "player_name = []\n",
    "for i in player:\n",
    "    player_name.append(i.text)\n",
    "player_name[:9]"
   ]
  },
  {
   "cell_type": "code",
   "execution_count": null,
   "metadata": {},
   "outputs": [],
   "source": [
    "player_name = []\n",
    "for i in player:\n",
    "    player_name.append(i.text.replace('\\n',''))\n",
    "player_name[:9]"
   ]
  },
  {
   "cell_type": "code",
   "execution_count": null,
   "metadata": {},
   "outputs": [],
   "source": [
    "pos= soup2.find_all('td', class_='table-body__cell table-body__cell--position u-text-right')\n",
    "pos[:9]"
   ]
  },
  {
   "cell_type": "code",
   "execution_count": null,
   "metadata": {},
   "outputs": [],
   "source": [
    "position = []\n",
    "for i in pos:\n",
    "    position.append(i.text)\n",
    "position[:9]"
   ]
  },
  {
   "cell_type": "code",
   "execution_count": null,
   "metadata": {},
   "outputs": [],
   "source": [
    "position = []\n",
    "for i in pos:\n",
    "    position.append(i.text.replace('\\n',''))\n",
    "\n",
    "position.insert(0,2)\n",
    "position.insert(1,3)\n",
    "position.insert(2,4)\n",
    "position.insert(3,5)\n",
    "position.insert(4,6)\n",
    "position.insert(5,7)\n",
    "position.insert(6,8)\n",
    "position.insert(7,9)\n",
    "position.insert(8,10)\n",
    "position.insert(9,11)\n",
    "\n",
    "position[:9]"
   ]
  },
  {
   "cell_type": "code",
   "execution_count": null,
   "metadata": {},
   "outputs": [],
   "source": [
    "country = soup2.find_all('span', class_ = 'table-body__logo-text')\n",
    "country[:9]"
   ]
  },
  {
   "cell_type": "code",
   "execution_count": null,
   "metadata": {},
   "outputs": [],
   "source": [
    "country_name = []\n",
    "for i in country:\n",
    "    country_name.append(i.text)\n",
    "country_name[:9]"
   ]
  },
  {
   "cell_type": "code",
   "execution_count": null,
   "metadata": {},
   "outputs": [],
   "source": [
    "rateing = soup2.find_all('td', class_ = 'table-body__cell rating')\n",
    "rateing[:9]"
   ]
  },
  {
   "cell_type": "code",
   "execution_count": null,
   "metadata": {},
   "outputs": [],
   "source": [
    "rateing_men = []\n",
    "for i in rateing:\n",
    "    rateing_men.append(i.text)\n",
    "rateing_men[:9]"
   ]
  },
  {
   "cell_type": "code",
   "execution_count": null,
   "metadata": {},
   "outputs": [],
   "source": [
    "import pandas as pd \n",
    "men_rank = pd.DataFrame({})\n",
    "men_rank['Positions'] = position[:9]\n",
    "men_rank['Player Name'] = player_name[:9]\n",
    "men_rank['Team'] = country_name[:9]\n",
    "men_rank['Ratings'] = rateing_men[:9]\n",
    "\n",
    "men_rank"
   ]
  },
  {
   "cell_type": "code",
   "execution_count": null,
   "metadata": {},
   "outputs": [],
   "source": [
    "top_row1 = pd.DataFrame({'Positions':[1],'Player Name':['Babar Azam'],'Team':['Pak'], 'Ratings':[873]})\n",
    "# Concat with old DataFrame and reset the Index.\n",
    "men_rank = pd.concat([top_row1, men_rank]).reset_index(drop = True)\n",
    "men_rank"
   ]
  },
  {
   "cell_type": "markdown",
   "metadata": {},
   "source": [
    "##### Top 10 ODI bowlers along with the records of their team andrating."
   ]
  },
  {
   "cell_type": "code",
   "execution_count": null,
   "metadata": {},
   "outputs": [],
   "source": [
    "icc_bowler_url = 'https://www.icc-cricket.com/rankings/mens/player-rankings/odi/bowling'\n",
    "response_bow = requests.get(icc_bowler_url)\n",
    "response_bow"
   ]
  },
  {
   "cell_type": "code",
   "execution_count": null,
   "metadata": {},
   "outputs": [],
   "source": [
    "# Using Soup\n",
    "soup3 = BeautifulSoup(response_bow.content)\n",
    "soup3"
   ]
  },
  {
   "cell_type": "code",
   "execution_count": null,
   "metadata": {},
   "outputs": [],
   "source": [
    "print(soup3.prettify())"
   ]
  },
  {
   "cell_type": "code",
   "execution_count": null,
   "metadata": {},
   "outputs": [],
   "source": [
    "position_bow = soup3.find_all('td', class_ = 'table-body__cell table-body__cell--position u-text-right')\n",
    "position_bow[:9]"
   ]
  },
  {
   "cell_type": "code",
   "execution_count": null,
   "metadata": {},
   "outputs": [],
   "source": [
    "pos_bow = []\n",
    "for i in position_bow:\n",
    "    pos_bow.append(i.text)\n",
    "pos_bow[:9]"
   ]
  },
  {
   "cell_type": "code",
   "execution_count": null,
   "metadata": {},
   "outputs": [],
   "source": [
    "pos_bow = []\n",
    "for i in position_bow:\n",
    "    pos_bow.append(i.text.replace('\\n',''))\n",
    "\n",
    "pos_bow.insert(5,7)\n",
    "pos_bow.insert(6,8)\n",
    "pos_bow.insert(7,9)\n",
    "pos_bow.insert(8,10)\n",
    "pos_bow[:9]"
   ]
  },
  {
   "cell_type": "code",
   "execution_count": null,
   "metadata": {},
   "outputs": [],
   "source": [
    "bowler = soup3.find_all('td', class_=\"table-body__cell rankings-table__name name\")\n",
    "bowler[:9]"
   ]
  },
  {
   "cell_type": "code",
   "execution_count": null,
   "metadata": {},
   "outputs": [],
   "source": [
    "bowler_name = []\n",
    "for i in bowler:\n",
    "    bowler_name.append(i.text)\n",
    "bowler_name[:9]"
   ]
  },
  {
   "cell_type": "code",
   "execution_count": null,
   "metadata": {},
   "outputs": [],
   "source": [
    "bowler_name = []\n",
    "for i in bowler:\n",
    "    bowler_name.append(i.text.replace('\\n',''))\n",
    "bowler_name[:9]"
   ]
  },
  {
   "cell_type": "code",
   "execution_count": null,
   "metadata": {},
   "outputs": [],
   "source": [
    "rating3 = soup3.find_all('td', class_= 'table-body__cell rating')\n",
    "rating3[:9]"
   ]
  },
  {
   "cell_type": "code",
   "execution_count": null,
   "metadata": {},
   "outputs": [],
   "source": [
    "bowler_rating = []\n",
    "for i in rating3:\n",
    "    bowler_rating.append(i.text)\n",
    "bowler_rating[:9]"
   ]
  },
  {
   "cell_type": "code",
   "execution_count": null,
   "metadata": {},
   "outputs": [],
   "source": [
    "team3 = soup3.find_all('span',class_ = 'table-body__logo-text')\n",
    "team3[:9]\n"
   ]
  },
  {
   "cell_type": "code",
   "execution_count": null,
   "metadata": {},
   "outputs": [],
   "source": [
    "bowlers_team = []\n",
    "for i in team3:\n",
    "    bowlers_team.append(i.text)\n",
    "bowlers_team[:9]"
   ]
  },
  {
   "cell_type": "code",
   "execution_count": null,
   "metadata": {},
   "outputs": [],
   "source": []
  },
  {
   "cell_type": "code",
   "execution_count": null,
   "metadata": {},
   "outputs": [],
   "source": []
  },
  {
   "cell_type": "code",
   "execution_count": null,
   "metadata": {},
   "outputs": [],
   "source": [
    "import pandas as pd \n",
    "bolwer_rank = pd.DataFrame({})\n",
    "bolwer_rank['Positions'] = pos_bow[:9]\n",
    "bolwer_rank['Bowler Name'] = bowler_name[:9]\n",
    "bolwer_rank['Team'] = bowlers_team[:9]\n",
    "bolwer_rank['Ratings'] = bowler_rating[:9]\n",
    "\n",
    "bolwer_rank"
   ]
  },
  {
   "cell_type": "code",
   "execution_count": null,
   "metadata": {},
   "outputs": [],
   "source": [
    "top_row2 = pd.DataFrame({'Positions':[1],'Bowler Name':['Trent Boult'],'Team':['NZ'], 'Ratings':[737]})\n",
    "# Concat with old DataFrame and reset the Index.\n",
    "bolwer_rank = pd.concat([top_row2, bolwer_rank]).reset_index(drop = True)\n",
    "bolwer_rank"
   ]
  },
  {
   "cell_type": "code",
   "execution_count": null,
   "metadata": {},
   "outputs": [],
   "source": []
  },
  {
   "cell_type": "code",
   "execution_count": null,
   "metadata": {},
   "outputs": [],
   "source": []
  },
  {
   "cell_type": "code",
   "execution_count": null,
   "metadata": {},
   "outputs": [],
   "source": []
  }
 ],
 "metadata": {
  "kernelspec": {
   "display_name": "Python 3",
   "language": "python",
   "name": "python3"
  },
  "language_info": {
   "codemirror_mode": {
    "name": "ipython",
    "version": 3
   },
   "file_extension": ".py",
   "mimetype": "text/x-python",
   "name": "python",
   "nbconvert_exporter": "python",
   "pygments_lexer": "ipython3",
   "version": "3.8.5"
  }
 },
 "nbformat": 4,
 "nbformat_minor": 4
}
